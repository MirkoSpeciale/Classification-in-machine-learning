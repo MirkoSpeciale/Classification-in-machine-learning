{
  "cells": [
    {
      "cell_type": "markdown",
      "metadata": {
        "id": "3TeHZc1FZKAi"
      },
      "source": [
        "# **Asignatura**: Aprendizaje Automático\n",
        "\n",
        "Introducción a Deep Learning\n",
        "\n",
        "\n",
        "### Nombre completo: <mark>Mirko Speciale</mark>\n",
        "\n",
        "\n"
      ]
    },
    {
      "cell_type": "markdown",
      "metadata": {
        "id": "sbmdqr0DZgnx"
      },
      "source": [
        "# **Clasificación**"
      ]
    },
    {
      "cell_type": "markdown",
      "metadata": {
        "id": "Cto6L5TrZl6z"
      },
      "source": [
        "En este ejercicio los alumnos se enfrentarán a un problema de clasificación, el cual tendrán que abordar de comienzo a fin (desde el análisis exploratorio hasta el entrenamiento y validación de los modelos de aprendizaje automático seleccionados). En particular, se enfrentarán a un problema real de uso de técnicas de aprendizaje automático para tratar de clasificar imágenes que contienen prendas de ropa, prediciendo la categoría de la imagen de entrada que contiene la prenda. El conjunto de datos original se obteniene a partir de la investigación realizada en el siguiente artículo:\n",
        "\n",
        "- Han Xiao, Kashif Rasul, Roland Vollgraf, Fashion-MNIST: a Novel Image Dataset for Benchmarking Machine Learning Algorithms, Technical Report, ArXiv, 2017 (URL: <a href=\"https://arxiv.org/abs/1708.07747\">https://arxiv.org/abs/1708.07747</a>)."
      ]
    },
    {
      "cell_type": "markdown",
      "metadata": {
        "id": "hxFvGS7SaXNo"
      },
      "source": [
        "## El conjunto de datos"
      ]
    },
    {
      "cell_type": "markdown",
      "metadata": {
        "id": "rl5xTIlnaY4-"
      },
      "source": [
        "**Fashion-MNIST** es un conjunto de datos que contiene imágenes de artículos de venta online desde la web de **Zalando**. Se distribuye en dos conjuntos de entrenamiento (60.000 imágenes) y test (10.000 imágenes) de prendas de ropa en escala de grises, donde cada imagen tiene un tamaño de 28 filas y 28 columnas. Cada una de las prendas se corresponde con una etiqueta entre 10 classes posibles:\n",
        "\n",
        "- 0 T-shirt/top\n",
        "- 1 Trouser\n",
        "- 2 Pullover\n",
        "- 3 Dress\n",
        "- 4 Coat\n",
        "- 5 Sandal\n",
        "- 6 Shirt\n",
        "- 7 Sneaker\n",
        "- 8 Bag\n",
        "- 9 Ankle boot\n",
        "\n",
        "Una muestra de ejemplo del contenido del conjunto de datos se ilustra en la siguiente figura:\n",
        "\n",
        "<center>\n",
        "<img src=\"https://github.com/zalandoresearch/fashion-mnist/raw/master/doc/img/fashion-mnist-sprite.png\" />\n",
        "</center>\n",
        "\n",
        "\n",
        "El **objetivo de la práctica** es desarrollar un modelo de aprendizaje automático con **Keras** capaz de identificar, si es posible, la categoría a la que pertenece cada prenda de ropa, tratando de alcanzar el máximo rendimiento en la resolución del problema.\n",
        "\n",
        "El dataset se encuentra disponible en **Keras**, y puede leerse como se muestra en la siguiente celda de código:"
      ]
    },
    {
      "cell_type": "code",
      "execution_count": null,
      "metadata": {
        "colab": {
          "base_uri": "https://localhost:8080/"
        },
        "id": "SVLZ7y3_ZbJS",
        "outputId": "cbe16c0d-0e1a-406f-c2e8-254e44b31c3c"
      },
      "outputs": [
        {
          "name": "stdout",
          "output_type": "stream",
          "text": [
            "Downloading data from https://storage.googleapis.com/tensorflow/tf-keras-datasets/train-labels-idx1-ubyte.gz\n",
            "\u001b[1m29515/29515\u001b[0m \u001b[32m━━━━━━━━━━━━━━━━━━━━\u001b[0m\u001b[37m\u001b[0m \u001b[1m0s\u001b[0m 0us/step\n",
            "Downloading data from https://storage.googleapis.com/tensorflow/tf-keras-datasets/train-images-idx3-ubyte.gz\n",
            "\u001b[1m26421880/26421880\u001b[0m \u001b[32m━━━━━━━━━━━━━━━━━━━━\u001b[0m\u001b[37m\u001b[0m \u001b[1m0s\u001b[0m 0us/step\n",
            "Downloading data from https://storage.googleapis.com/tensorflow/tf-keras-datasets/t10k-labels-idx1-ubyte.gz\n",
            "\u001b[1m5148/5148\u001b[0m \u001b[32m━━━━━━━━━━━━━━━━━━━━\u001b[0m\u001b[37m\u001b[0m \u001b[1m0s\u001b[0m 0us/step\n",
            "Downloading data from https://storage.googleapis.com/tensorflow/tf-keras-datasets/t10k-images-idx3-ubyte.gz\n",
            "\u001b[1m4422102/4422102\u001b[0m \u001b[32m━━━━━━━━━━━━━━━━━━━━\u001b[0m\u001b[37m\u001b[0m \u001b[1m0s\u001b[0m 0us/step\n",
            "Conjunto de training:  <class 'tuple'> 2\n",
            "Conjunto de test:  <class 'tuple'> 2\n"
          ]
        }
      ],
      "source": [
        "import tensorflow as tf\n",
        "\n",
        "Train, Test= tf.keras.datasets.fashion_mnist.load_data()\n",
        "print('Conjunto de training: ', type(Train), len(Train))\n",
        "print('Conjunto de test: ', type(Test), len(Test))"
      ]
    },
    {
      "cell_type": "markdown",
      "metadata": {
        "id": "mgkADWAncwFx"
      },
      "source": [
        "## Tarea"
      ]
    },
    {
      "cell_type": "markdown",
      "metadata": {
        "id": "lHfRbuOGcxJ1"
      },
      "source": [
        "El alumnado debe realizar, al menos, las siguientes tareas (que deben ser descritas y abordadas, explícitamente, en la documentación entregada; de hecho, se debe incluir un subapartado en el Notebook para cada una de ellas):\n",
        "\n",
        "1. Análisis descriptivo del problema y análisis exploratorio de los datos a nuestra disposición.\n",
        "2. Preprocesado de datos (selección/extracción de características, reducción de dimensionalidad, procesado de datos extremos/atípicos, imputación de datos faltantes, escalado de variables, codificación/transformación de datos, desbalanceo de datos).\n",
        "3. Definición del protocolo de validación experimental (entrenamiento, validación y test), junto con las métricas de evaluación del rendimiento que corresponda.\n",
        "4. Selección de dos tipos de modelos distintos de **Deep Learning**: Al primero lo llamaremos **C1** y al segundo **C2**.\n",
        "5. Selección y estimación de valores para hiperparámetros.\n",
        "6. Entrenamiento y estimación del error fuera de la muestra. Discusión de resultados y extracción de conclusiones.\n",
        "\n",
        "\n",
        "Con respecto a los modelos a utilizar, partiremos de la propuesta realizada en el siguiente artículo:\n",
        "\n",
        "- E. Xhaferra, E. Cina and L. Toti, \"Classification of Standard FASHION MNIST Dataset Using Deep Learning Based CNN Algorithms,\" 2022 International Symposium on Multidisciplinary Studies and Innovative Technologies (ISMSIT), Ankara, Turkey, 2022, pp. 494-498, doi: 10.1109/ISMSIT56059.2022.9932737 (URL: <a href=\"https://ieeexplore.ieee.org/document/9932737\">https://ieeexplore.ieee.org/document/9932737</a>.\n",
        "\n",
        "\n",
        "\n",
        "\n",
        "La arquitectura de la red para el modelo **C1** es la siguiente:\n",
        "\n",
        "<table>\n",
        "<th>\n",
        "  <td><b>Layer Type</b></td>\n",
        "  <td><b>kernel type (conv.)</b></td>\n",
        "  <td><b>Input | Output dim.</b></td>\n",
        "  <td><b>Input | Output channels (conv.)</b></td>\n",
        "</th>\n",
        "<tr>\n",
        "  <td></td>\n",
        "  <td> Conv </td>\n",
        "  <td> 3x3 </td>\n",
        "  <td> 28x28 | 26x26 </td>\n",
        "  <td> 1 | 6 </td>\n",
        "</tr>\n",
        "<tr>\n",
        "  <td></td>\n",
        "  <td> ReLU </td>\n",
        "  <td> - </td>\n",
        "  <td> - </td>\n",
        "  <td> - </td>\n",
        "</tr>\n",
        "<tr>\n",
        "  <td></td>\n",
        "  <td> MaxPooling </td>\n",
        "  <td> 2x2 </td>\n",
        "  <td> 26x26 | 13x13 </td>\n",
        "  <td> - </td>\n",
        "</tr>\n",
        "<tr>\n",
        "  <td></td>\n",
        "  <td> Conv </td>\n",
        "  <td> 3x3 </td>\n",
        "  <td> 13x13 | 11x11 </td>\n",
        "  <td> 6 | 10 </td>\n",
        "</tr>\n",
        "<tr>\n",
        "  <td></td>\n",
        "  <td> ReLU </td>\n",
        "  <td> - </td>\n",
        "  <td> - </td>\n",
        "  <td> - </td>\n",
        "</tr>\n",
        "<tr>\n",
        "  <td></td>\n",
        "  <td> Batch Norm. </td>\n",
        "  <td> - </td>\n",
        "  <td> - </td>\n",
        "  <td> - </td>\n",
        "</tr>\n",
        "<tr>\n",
        "  <td></td>\n",
        "  <td> MaxPooling </td>\n",
        "  <td> 2x2 </td>\n",
        "  <td> 11x11 | 5x5 </td>\n",
        "  <td> - </td>\n",
        "</tr>\n",
        "<tr>\n",
        "  <td></td>\n",
        "  <td> FC </td>\n",
        "  <td> - </td>\n",
        "  <td> 250 | 128 </td>\n",
        "  <td> - </td>\n",
        "</tr>\n",
        "<tr>\n",
        "  <td></td>\n",
        "  <td> ReLU </td>\n",
        "  <td> - </td>\n",
        "  <td> - </td>\n",
        "  <td> - </td>\n",
        "</tr>\n",
        "<tr>\n",
        "  <td></td>\n",
        "  <td> FC </td>\n",
        "  <td> - </td>\n",
        "  <td> 128 | 10 </td>\n",
        "  <td> - </td>\n",
        "</tr>\n",
        "</table>\n",
        "\n",
        "\n",
        "\n",
        "Por otra parte, la arquitectura de la red para el modelo **C2** es la siguiente:\n",
        "\n",
        "<table>\n",
        "<th>\n",
        "  <td><b>Layer Type</b></td>\n",
        "  <td><b>kernel type (conv.)</b></td>\n",
        "  <td><b>Input | Output dim.</b></td>\n",
        "  <td><b>Input | Output channels (conv.)</b></td>\n",
        "</th>\n",
        "<tr>\n",
        "  <td></td>\n",
        "  <td> Conv </td>\n",
        "  <td> 3x3 </td>\n",
        "  <td> 28x28 | 28x28 </td>\n",
        "  <td> 1 | 112 </td>\n",
        "</tr>\n",
        "<tr>\n",
        "  <td></td>\n",
        "  <td> Batch Norm. </td>\n",
        "  <td> - </td>\n",
        "  <td> - </td>\n",
        "  <td> - </td>\n",
        "</tr>\n",
        "<tr>\n",
        "  <td></td>\n",
        "  <td> ReLU </td>\n",
        "  <td> - </td>\n",
        "  <td> - </td>\n",
        "  <td> - </td>\n",
        "</tr>\n",
        "<tr>\n",
        "  <td></td>\n",
        "  <td> Conv </td>\n",
        "  <td> 3x3 </td>\n",
        "  <td> 28x28 | 28x28 </td>\n",
        "  <td> 112 | 64 </td>\n",
        "</tr>\n",
        "<tr>\n",
        "  <td></td>\n",
        "  <td> Batch Norm. </td>\n",
        "  <td> - </td>\n",
        "  <td> - </td>\n",
        "  <td> - </td>\n",
        "</tr>\n",
        "<tr>\n",
        "  <td></td>\n",
        "  <td> ReLU </td>\n",
        "  <td> - </td>\n",
        "  <td> - </td>\n",
        "  <td> - </td>\n",
        "</tr>\n",
        "<tr>\n",
        "  <td></td>\n",
        "  <td> Conv </td>\n",
        "  <td> 3x3 </td>\n",
        "  <td> 28x28 | 28x28 </td>\n",
        "  <td> 64 | 128 </td>\n",
        "</tr>\n",
        "<tr>\n",
        "  <td></td>\n",
        "  <td> Batch Norm. </td>\n",
        "  <td> - </td>\n",
        "  <td> - </td>\n",
        "  <td> - </td>\n",
        "</tr>\n",
        "<tr>\n",
        "  <td></td>\n",
        "  <td> ReLU </td>\n",
        "  <td> - </td>\n",
        "  <td> - </td>\n",
        "  <td> - </td>\n",
        "</tr>\n",
        "<tr>\n",
        "  <td></td>\n",
        "  <td> MaxPooling </td>\n",
        "  <td> 2x2 </td>\n",
        "  <td> 28x28 | 14x14 </td>\n",
        "  <td> - </td>\n",
        "</tr>\n",
        "<tr>\n",
        "  <td></td>\n",
        "  <td> FC </td>\n",
        "  <td> - </td>\n",
        "  <td> 25088 | 208 </td>\n",
        "  <td> - </td>\n",
        "</tr>\n",
        "<tr>\n",
        "  <td></td>\n",
        "  <td> Dropout(0.1) </td>\n",
        "  <td> - </td>\n",
        "  <td> - </td>\n",
        "  <td> - </td>\n",
        "</tr>\n",
        "<tr>\n",
        "  <td></td>\n",
        "  <td> ReLU </td>\n",
        "  <td> - </td>\n",
        "  <td> - </td>\n",
        "  <td> - </td>\n",
        "</tr>\n",
        "<tr>\n",
        "  <td></td>\n",
        "  <td> FC </td>\n",
        "  <td> - </td>\n",
        "  <td> 208 | 160 </td>\n",
        "  <td> - </td>\n",
        "</tr>\n",
        "<tr>\n",
        "  <td></td>\n",
        "  <td> Dropout(0.1) </td>\n",
        "  <td> - </td>\n",
        "  <td> - </td>\n",
        "  <td> - </td>\n",
        "</tr>\n",
        "<tr>\n",
        "  <td></td>\n",
        "  <td> ReLU </td>\n",
        "  <td> - </td>\n",
        "  <td> - </td>\n",
        "  <td> - </td>\n",
        "</tr>\n",
        "<tr>\n",
        "  <td></td>\n",
        "  <td> FC </td>\n",
        "  <td> - </td>\n",
        "  <td> 160 | 128 </td>\n",
        "  <td> - </td>\n",
        "</tr>\n",
        "<tr>\n",
        "  <td></td>\n",
        "  <td> Dropout(0.1) </td>\n",
        "  <td> - </td>\n",
        "  <td> - </td>\n",
        "  <td> - </td>\n",
        "</tr>\n",
        "<tr>\n",
        "  <td></td>\n",
        "  <td> ReLU </td>\n",
        "  <td> - </td>\n",
        "  <td> - </td>\n",
        "  <td> - </td>\n",
        "</tr>\n",
        "<tr>\n",
        "  <td></td>\n",
        "  <td> FC </td>\n",
        "  <td> - </td>\n",
        "  <td> 128 | 10 </td>\n",
        "  <td> - </td>\n",
        "</tr>\n",
        "</table>\n",
        "\n",
        "\n",
        "**Entrene cada modelo un total de 20 épocas. Pruebe con dos tipos de tamaño de batch (64 y 1000) en cada modelo.**.\n",
        "\n",
        "<font color=\"red\"><b>NO OLVIDAR ACTIVAR LA GPU EN LA CONFIGURACIÓN DEL CUADERNO (Menú Editar -> Configuración del cuaderno)</b></font>"
      ]
    },
    {
      "cell_type": "markdown",
      "metadata": {
        "id": "kPIjZnU-uW-f"
      },
      "source": [
        "#Preprocessing"
      ]
    },
    {
      "cell_type": "markdown",
      "metadata": {
        "id": "_DJxOhtLucVf"
      },
      "source": [
        "En este problema se nos pide construir, entrenar y evaluar dos modelos de Deep Learning (C1 y C2) sobre Fashion MNIST que es un conjunto de datos que contiene imágenes de artículos de venta online desde la web de Zalando.\n",
        "Este se compone de un total de 60000 imágenes y 10000 pruebas relativas a 10 tipos de prendas de color en escala de grises.\n",
        "\n",
        "Mi objetivo será desarrollar un modelo de aprendizaje automático con Keras capaz de identificar, si es posible, la categoría a la que pertenece cada prenda de ropa, tratando de alcanzar el máximo rendimiento en la resolución del problema.  "
      ]
    },
    {
      "cell_type": "markdown",
      "metadata": {
        "id": "KYcK3OeSwRIp"
      },
      "source": [
        "Para llevar a cabo la tarea que se me asignó, empecé por preparar, desde una escala superior, los datos para los modelos que luego construiría, de hecho, como puede verse en el primer bloque de código, mi primer paso fue dividir las imágenes que se iban a utilizar a partir de las etiquetas.\n",
        "A continuación, como el mantenimiento de los valores en un intervalo estrecho (0,1) hace que el descenso de gradiente sea más estable y rápido y evita las fluctuaciones numéricas debidas a entradas en escalas muy diferentes, normalicé todos los píxeles dividiéndolos por 255. Durante este preprocesamiento, dividí a continuación mi conjunto de datos en tres partes, una de entrenamiento que es la más grande y cuenta con 48000 imágenes, una de validación de 12000 (20%) y una de prueba de 10000 esto con el fin de tener una muestra de control sobre la que supervisar la tendencia de pérdida y precisión durante el entrenamiento e interceptar cualquier fenómeno de sobreajuste antes de exponer el modelo a la prueba final.\n",
        "\n",
        "Dado que TensorFlow requiere un tensor de cuatro dimensiones para las convoluciones, modelé las imágenes de 28×28 en matrices de formas (batch_size, 28, 28, 1) para que sean compatibles con los modelos CNN, que normalmente esperan entradas con dimensiones que incluyen altura, anchura y número de canales (profundidad de color) Quiero especificar que aunque cada imagen es en escala de grises (un solo canal), este eje «1» en la parte inferior es esencial ya que sin él las operaciones de convolución no se aplicarían correctamente\n",
        "\n",
        "A continuación, las etiquetas se transforman en una representación one-hot mediante OneHotEncoder. Esto es necesario porque las CNN suelen necesitar etiquetas en formato one-hot para la clasificación multiclase, en la que cada etiqueta se representa como un vector con valores binarios. Un ejemplo podría ser 3 → [0,0,1,0,0,0,0] ya que tenemos 10 clases.\n",
        "Por último, no quería que mi modelo aprendiera a reconocer sólo las posiciones y poses exactas de los elementos del conjunto de datos. Por eso instancié un ImageDataGenerator con rotaciones de hasta ±15°, traslaciones horizontales y verticales del 10%, cizallamiento de 10 grados y zoom del 10%. De este modo, en cada epoch presento a la red versiones ligeramente distorsionadas de las mismas imágenes, forzando al modelo a generalizar mejor y a ser más robusto ante entradas variables. A continuación, el generador se adapta a las imágenes de entrenamiento y ya está listo para ser utilizado en el entrenamiento del modelo."
      ]
    },
    {
      "cell_type": "code",
      "execution_count": null,
      "metadata": {
        "colab": {
          "base_uri": "https://localhost:8080/"
        },
        "id": "t9oE_XFEkeKR",
        "outputId": "ac7c5926-9226-4e0f-e91c-769efa3886a9"
      },
      "outputs": [
        {
          "name": "stdout",
          "output_type": "stream",
          "text": [
            "Dimensiones originales:\n",
            "\n",
            "Conjunto de entrenamiento inicial: 60000 muestras\n",
            "Conjunto de prueba inicial: 10000 muestras\n",
            "\n",
            "Después de dividir entrenamiento/validación:\n",
            "\n",
            "Conjunto de entrenamiento: 48000 muestras\n",
            "Conjunto de validación: 12000 muestras\n",
            "Conjunto de prueba: 10000 muestras\n"
          ]
        }
      ],
      "source": [
        "import tensorflow as tf\n",
        "import numpy as np\n",
        "import matplotlib.pyplot as plt\n",
        "from sklearn.model_selection import train_test_split\n",
        "from sklearn.preprocessing import OneHotEncoder\n",
        "from sklearn.metrics import classification_report, confusion_matrix\n",
        "\n",
        "# Divido en imágenes y etiquetas\n",
        "x_train, y_train = Train\n",
        "x_test, y_test = Test\n",
        "\n",
        "# Muestro dimensiones originales\n",
        "print(\"Dimensiones originales:\")\n",
        "print(f\"\\nConjunto de entrenamiento inicial: {x_train.shape[0]} muestras\")\n",
        "print(f\"Conjunto de prueba inicial: {x_test.shape[0]} muestras\")\n",
        "\n",
        "# Normalizo los datos\n",
        "x_train = x_train / 255.0\n",
        "x_test = x_test / 255.0\n",
        "\n",
        "# Divido el conjunto de entrenamiento en entrenamiento y validación\n",
        "x_train, x_val, y_train, y_val = train_test_split(\n",
        "    x_train, y_train, test_size=0.2, random_state=42)\n",
        "\n",
        "# Muestro dimensiones después de la división\n",
        "print(\"\\nDespués de dividir entrenamiento/validación:\")\n",
        "print(f\"\\nConjunto de entrenamiento: {x_train.shape[0]} muestras\")\n",
        "print(f\"Conjunto de validación: {x_val.shape[0]} muestras\")\n",
        "print(f\"Conjunto de prueba: {x_test.shape[0]} muestras\")\n",
        "\n",
        "# Añado canal (necesario para CNN)\n",
        "x_train = x_train.reshape(-1, 28, 28, 1)\n",
        "x_val = x_val.reshape(-1, 28, 28, 1)\n",
        "x_test = x_test.reshape(-1, 28, 28, 1)\n",
        "\n",
        "# Codifico en one-hot las etiquetas\n",
        "encoder = OneHotEncoder(sparse_output=False)\n",
        "y_train_oh = encoder.fit_transform(y_train.reshape(-1, 1))\n",
        "y_val_oh = encoder.transform(y_val.reshape(-1, 1))\n",
        "y_test_oh = encoder.transform(y_test.reshape(-1, 1))\n",
        "\n",
        "# Aumento los datos\n",
        "datagen = tf.keras.preprocessing.image.ImageDataGenerator(\n",
        "    rotation_range=15,\n",
        "    width_shift_range=0.1,\n",
        "    height_shift_range=0.1,\n",
        "    shear_range=10,\n",
        "    zoom_range=0.1,\n",
        "    horizontal_flip=False,\n",
        "    fill_mode='nearest'\n",
        ")\n",
        "\n",
        "# Aplico aumento de datos al conjunto de entrenamiento\n",
        "datagen.fit(x_train)"
      ]
    },
    {
      "cell_type": "markdown",
      "metadata": {
        "id": "5eiHFvHQkaCE"
      },
      "source": [
        "## Solución: Modelo C1\n"
      ]
    },
    {
      "cell_type": "markdown",
      "metadata": {
        "id": "KQw9SL7kyJJi"
      },
      "source": [
        "Ahora entramos en la parte más profunda del código empezando a programar la arquitectura definida en la entrega. Este primer modelo es el algo más sencillo, comenzamos con una capa de entrada que espera exactamente imágenes en escala de grises de 28×28 píxeles e inmediatamente después, como requiere la arquitectura por defecto, se aplica la primera capa convolucional con seis filtros de tamaño 3×3 para extraer las características más básicas como bordes y texturas simples. Se activa Relu, que introduce la no linealidad, ya que si continuamos concatenando operaciones lineales, el modelo en el seguiría siendo lineal y, por tanto, incapaz de aprender relaciones complejas. El siguiente paso consiste en utilizar una operación de max pooling con una ventana de 2×2 que reduce a la mitad las dimensiones espaciales de 28×28 a 14×14, conservando los seis canales del mapa de características. Continuamos el flujo con una segunda capa convolucional, esta vez con diez filtros aún de tamaño 3×3. De nuevo, el ReLU activa las respuestas no lineales y, para estabilizar el entrenamiento y acelerar la convergencia, se añade una normalización por lotes; esta técnica simplemente reescala cada característica para que tenga una media ≈ 0 y una varianza ≈ 1 en el lote actual, reduciendo así el llamado desplazamiento interno de covariables, es decir, el hecho de que a medida que cambian los pesos, también cambia la distribución de entradas a una capa, lo que complica la optimización.\n",
        "A continuación, se realiza otra operación de agrupación máxima que reduce aún más los mapas de características a 6×6×10 y ahora, gracias a la capa de aplanamiento, todos los valores de los mapas de características se «desenrollan» en un vector unidimensional de longitud 360.\n",
        "\n",
        "A continuación, llegamos a la parte densa del modelo, que comienza con una capa de conexión completa de 128 neuronas, seguida de un mecanismo de abandono que, con una probabilidad de 0,1, evita el sobreajuste desconectando aleatoriamente algunas neuronas durante el entrenamiento. Aquí también se aplica ReLU antes de pasar a la capa final, donde una capa densa con 10 unidades y softmax traduce las activaciones en probabilidades para cada una de las diez clases.\n",
        "Más concretamente, softmax para cada puntuación, calcula su exponencial y luego divide por la suma de todos los exponenciales de puntuación. Esto da diez valores entre 0 y 1 que suman exactamente 1.\n",
        "\n",
        "Softmax transforma entonces las puntuaciones «absolutas» en probabilidades relativas, ya que la clase cuya puntuación bruta haya sido más alta obtendrá la probabilidad más alta, mientras que las demás recibirán porcentajes más bajos. Al final, si, por ejemplo, la probabilidad para la figura «3» es de 0,75, significa que el modelo está convencido en un 75 % de que la imagen representa justamente «3». Este mecanismo nos permite interpretar clara y matemáticamente el resultado final de la red como una distribución de probabilidad real sobre las clases."
      ]
    },
    {
      "cell_type": "code",
      "execution_count": null,
      "metadata": {
        "id": "7s625jtD4tsi"
      },
      "outputs": [],
      "source": [
        "from tensorflow.keras.models import Sequential\n",
        "from tensorflow.keras.layers import Conv2D, MaxPooling2D, Dense, Flatten, BatchNormalization, ReLU, Input, Dropout\n",
        "from tensorflow.keras.optimizers import Adam, SGD\n",
        "\n",
        "def build_model_c1(dropout_rate=0.1, dense_units=128):\n",
        "    model = Sequential([\n",
        "        Input(shape=(28, 28, 1)),\n",
        "        Conv2D(6, (3, 3)),\n",
        "        ReLU(),\n",
        "        MaxPooling2D((2, 2)),\n",
        "        Conv2D(10, (3, 3)),\n",
        "        ReLU(),\n",
        "        BatchNormalization(),\n",
        "        MaxPooling2D((2, 2)),\n",
        "        Flatten(),\n",
        "        Dense(128),\n",
        "        Dropout(dropout_rate),\n",
        "        ReLU(),\n",
        "        Dense(10, activation='softmax')\n",
        "    ])\n",
        "    return model"
      ]
    },
    {
      "cell_type": "markdown",
      "metadata": {
        "id": "iWjPR41E6YXQ"
      },
      "source": [
        "Una vez creado el modelo, en este bloque de código inicializo la búsqueda de los mejores hiperparámetros con el tamaño de lote, la tasa de abandono, el tipo de optimizador y la tasa de aprendizaje; esto es para identificar automáticamente la combinación que ofrece la mejor precisión de validación. Para empezar, defino cuatro listas de valores posibles: dos tamaños de lote (64 y 1000), dos niveles de abandono (0,1 y 0,3), dos optimizadores ('adam' y 'sgd') y tres tasas de aprendizaje (0,001, 0,01, 0,1). En este punto inicializo best_acc_c1 a 0 y best_params_c1 como un diccionario vacío, listo para recoger los mejores resultados.\n",
        "Ahora llega el momento de realizar cuatro ciclos anidados explorando todas las combinaciones de estos hiperparámetros. En cada iteración imprimo inmediatamente en la consola los valores actuales de lote, dropout, optimizador y tasa de aprendizaje; esto permite seguir el progreso del experimento. A continuación, utilizo la función build_model_c1 especificando el valor de abandono como entrada y dejando el número de unidades densas fijo en 128. Este cambio se realizó posteriormente para reducir el número de unidades densas. Este cambio se realizó posteriormente para reducir el exagerado tiempo de entrenamiento. Dependiendo del nombre elegido ('adam' o 'sgd') instancié el optimizador correspondiente con la tasa de aprendizaje seleccionada e inmediatamente después compilé el modelo con la métrica de pérdida y precisión categorical_crossentropy, preparándolo para el entrenamiento.\n",
        "\n",
        "Ahora llega el momento de realizar cuatro ciclos anidados explorando todas las combinaciones de estos hiperparámetros. En cada iteración imprimo inmediatamente en la consola los valores actuales de lote, dropout, optimizador y tasa de aprendizaje, para poder seguir el progreso del experimento. A continuación, utilizo la función build_model_c1 especificando el valor de abandono como entrada y dejando el número de unidades densas fijo en 128. Este cambio se realizó posteriormente para reducir el exagerado tiempo de entrenamiento. Dependiendo del nombre elegido ('adam' o 'sgd') instancié el optimizador correspondiente con la tasa de aprendizaje seleccionada e inmediatamente después compilé el modelo con la métrica de pérdida y precisión categorical_crossentropy, preparándolo para el entrenamiento.\n",
        "\n",
        "\n",
        "\n",
        "En la fase de entrenamiento llamo a model.fit proporcionando los datos de entrenamiento x_train e y_train_oh, junto con el conjunto de validación x_val e y_val_oh, para un máximo de 20 épocas y con el tamaño de lote actual, tal y como proporcionan las disposiciones generales. Configuro verbose=0 para no saturar el registro con detalles de cada epoch y al final de la sesión de entrenamiento se extrae la última precisión de validación del diccionario history.history y se imprime con cuatro decimales. Si esto supera el mejor valor registrado hasta el momento en best_acc_c1, tanto best_acc_c1 como las variables best_model_c1 y best_history_c1 se actualizan, junto con best_params_c1, que conserva la configuración ganadora.\n",
        "\n",
        "En este caso, la mejor configuración para C1 es {'batch_size': 64, 'dropout': 0,3, 'optimiser': 'adam', 'learning_rate': 0,001, 'dense_units': 128}. → val_acc=0.8971\n",
        "\n",
        "\n",
        "\n",
        "Esto significa que la combinación con un bach pequeño resultó ser mejor, seguramente relacionado con el hecho de que un lote más pequeño suele ayudar a evitar mínimos locales y mejora la generalización, aunque ralentiza el entrenamiento. En la combinación vemos entonces que se eligió el valor más alto de dropout, lo que sugiere que el modelo se beneficia de una regularización más fuerte y reduce el riesgo de sobreajuste en comparación con una tasa del 10%. Quedan en la combinación Adam, que obtuvo mejores resultados en este caso, y una tasa de aprendizaje baja que permite actualizaciones más estables de los pesos y evita oscilaciones excesivas. Al final, la precisión tiene un valor del 89,71%. Esto me demuestra que el trabajo se hizo bien y que el modelo está bien equilibrado entre capacidad de aprendizaje y generalización"
      ]
    },
    {
      "cell_type": "code",
      "execution_count": null,
      "metadata": {
        "colab": {
          "base_uri": "https://localhost:8080/"
        },
        "id": "GkS0yf8J39GA",
        "outputId": "07ca51a5-3e40-46b0-92e5-086c51d63ef6"
      },
      "outputs": [
        {
          "name": "stdout",
          "output_type": "stream",
          "text": [
            "\n",
            "Buscando: batch=64, dropout=0.1, opt=adam@0.001, dense=128\n",
            "Precisión de validación = 0.8969\n",
            "\n",
            "Buscando: batch=64, dropout=0.1, opt=adam@0.01, dense=128\n",
            "Precisión de validación = 0.8922\n",
            "\n",
            "Buscando: batch=64, dropout=0.1, opt=adam@0.1, dense=128\n",
            "Precisión de validación = 0.0987\n",
            "\n",
            "Buscando: batch=64, dropout=0.1, opt=sgd@0.001, dense=128\n",
            "Precisión de validación = 0.8348\n",
            "\n",
            "Buscando: batch=64, dropout=0.1, opt=sgd@0.01, dense=128\n",
            "Precisión de validación = 0.8844\n",
            "\n",
            "Buscando: batch=64, dropout=0.1, opt=sgd@0.1, dense=128\n",
            "Precisión de validación = 0.8917\n",
            "\n",
            "Buscando: batch=64, dropout=0.3, opt=adam@0.001, dense=128\n",
            "Precisión de validación = 0.8971\n",
            "\n",
            "Buscando: batch=64, dropout=0.3, opt=adam@0.01, dense=128\n",
            "Precisión de validación = 0.8841\n",
            "\n",
            "Buscando: batch=64, dropout=0.3, opt=adam@0.1, dense=128\n",
            "Precisión de validación = 0.0997\n",
            "\n",
            "Buscando: batch=64, dropout=0.3, opt=sgd@0.001, dense=128\n",
            "Precisión de validación = 0.8249\n",
            "\n",
            "Buscando: batch=64, dropout=0.3, opt=sgd@0.01, dense=128\n",
            "Precisión de validación = 0.8770\n",
            "\n",
            "Buscando: batch=64, dropout=0.3, opt=sgd@0.1, dense=128\n",
            "Precisión de validación = 0.8797\n",
            "\n",
            "Buscando: batch=1000, dropout=0.1, opt=adam@0.001, dense=128\n",
            "Precisión de validación = 0.8915\n",
            "\n",
            "Buscando: batch=1000, dropout=0.1, opt=adam@0.01, dense=128\n",
            "Precisión de validación = 0.8913\n",
            "\n",
            "Buscando: batch=1000, dropout=0.1, opt=adam@0.1, dense=128\n",
            "Precisión de validación = 0.8443\n",
            "\n",
            "Buscando: batch=1000, dropout=0.1, opt=sgd@0.001, dense=128\n",
            "Precisión de validación = 0.7058\n",
            "\n",
            "Buscando: batch=1000, dropout=0.1, opt=sgd@0.01, dense=128\n",
            "Precisión de validación = 0.8158\n",
            "\n",
            "Buscando: batch=1000, dropout=0.1, opt=sgd@0.1, dense=128\n",
            "Precisión de validación = 0.8731\n",
            "\n",
            "Buscando: batch=1000, dropout=0.3, opt=adam@0.001, dense=128\n",
            "Precisión de validación = 0.8892\n",
            "\n",
            "Buscando: batch=1000, dropout=0.3, opt=adam@0.01, dense=128\n",
            "Precisión de validación = 0.8959\n",
            "\n",
            "Buscando: batch=1000, dropout=0.3, opt=adam@0.1, dense=128\n",
            "Precisión de validación = 0.8444\n",
            "\n",
            "Buscando: batch=1000, dropout=0.3, opt=sgd@0.001, dense=128\n",
            "Precisión de validación = 0.7080\n",
            "\n",
            "Buscando: batch=1000, dropout=0.3, opt=sgd@0.01, dense=128\n",
            "Precisión de validación = 0.7991\n",
            "\n",
            "Buscando: batch=1000, dropout=0.3, opt=sgd@0.1, dense=128\n",
            "Precisión de validación = 0.8613\n",
            "\n",
            "Mejores hiperparámetros C1: {'batch_size': 64, 'dropout': 0.3, 'optimizer': 'adam', 'learning_rate': 0.001, 'dense_units': 128} → val_acc=0.8971\n"
          ]
        }
      ],
      "source": [
        "# búsqueda de hiperparámetros\n",
        "batch_sizes       = [64, 1000]\n",
        "dropouts          = [0.1, 0.3]\n",
        "optimizers        = ['adam', 'sgd']\n",
        "learning_rates    = [1e-3, 1e-2, 1e-1]\n",
        "\n",
        "best_acc_c1    = 0\n",
        "best_params_c1 = {}\n",
        "\n",
        "for batch in batch_sizes:\n",
        "    for drop in dropouts:\n",
        "        for opt_name in optimizers:\n",
        "            for lr in learning_rates:\n",
        "                print(f\"\\nBuscando: batch={batch}, dropout={drop}, \"\n",
        "                      f\"opt={opt_name}@{lr}, dense=128\")  # Densità fissa a 128\n",
        "\n",
        "                model = build_model_c1(dropout_rate=drop)\n",
        "                optimizer = Adam(learning_rate=lr) if opt_name == 'adam' else SGD(learning_rate=lr)\n",
        "\n",
        "                model.compile(optimizer=optimizer,\n",
        "                              loss='categorical_crossentropy',\n",
        "                              metrics=['accuracy'])\n",
        "\n",
        "                history = model.fit(x_train, y_train_oh,\n",
        "                                    validation_data=(x_val, y_val_oh),\n",
        "                                    epochs=20,\n",
        "                                    batch_size=batch,\n",
        "                                    verbose=0)\n",
        "\n",
        "                val_acc = history.history['val_accuracy'][-1]\n",
        "                print(f\"Precisión de validación = {val_acc:.4f}\")\n",
        "\n",
        "                if val_acc > best_acc_c1:\n",
        "                    best_acc_c1   = val_acc\n",
        "                    best_model_c1 = model\n",
        "                    best_history_c1 = history\n",
        "                    best_params_c1 = dict(batch_size=batch,\n",
        "                                          dropout=drop,\n",
        "                                          optimizer=opt_name,\n",
        "                                          learning_rate=lr,\n",
        "                                          dense_units=128)\n",
        "\n",
        "print(\"\\nMejores hiperparámetros C1:\", best_params_c1,\n",
        "      f\"→ val_acc={best_acc_c1:.4f}\")\n",
        "\n",
        "# -- variables puente por despues\n",
        "acc_c1 = best_acc_c1"
      ]
    },
    {
      "cell_type": "markdown",
      "metadata": {
        "id": "f7dK8SH1FwmZ"
      },
      "source": [
        "En esta última fase, evaluamos el rendimiento de los mejores hiperparámetros previamente identificados en la prueba final. Aquí confirmamos la bondad del modelo, con una precisión del 88,97%, valor ligeramente inferior al de validación pero aún muy próximo, señal de un sólido ajuste a los datos no vistos. El análisis detallado del rendimiento, a través del informe de clasificación, revela un comportamiento diferenciado entre las clases. Mientras que algunas categorías, como las clases 1, 5, 7, 8 y 9, alcanzan puntuaciones F1 superiores al 94% -con picos de precisión del 99% para la clase 1-, la clase 6, por el contrario, muestra dificultades evidentes, registrando una puntuación F1 de sólo 0,69. Esta discrepancia sugiere una posible complejidad inherente a la clase 6.\n",
        "\n",
        "En cuanto a los gráficos de pérdidas y precisión, podemos ver que la curva de pérdidas, tanto para el entrenamiento como para la validación, disminuye de forma regular y convergente, sin picos ni fluctuaciones bruscas, lo que indica un proceso de optimización estable. La ausencia de un aumento repentino en la pérdida de validación excluye fenómenos significativos de sobreajuste. Del mismo modo, las curvas de precisión muestran una aproximación gradual entre el entrenamiento y la validación, con una brecha residual pequeña, coherente con el uso de un dropout relativamente alto (0,3). Este pequeño desfase deja margen de mejora, pero los resultados reflejan un equilibrio satisfactorio entre capacidad de aprendizaje y generalización."
      ]
    },
    {
      "cell_type": "code",
      "execution_count": null,
      "metadata": {
        "colab": {
          "base_uri": "https://localhost:8080/",
          "height": 848
        },
        "id": "0B4ZSHTe4A0F",
        "outputId": "d7059b8b-3520-474a-a9ee-8222477fb989"
      },
      "outputs": [
        {
          "name": "stdout",
          "output_type": "stream",
          "text": [
            "Mejores parámetros C1 encontrados:\n",
            "Tamaño de lote: 64, Dropout: 0.3, Optimizador: adam, Dense: 128\n",
            "Precisión final en test (C1): 0.8897\n",
            "\u001b[1m313/313\u001b[0m \u001b[32m━━━━━━━━━━━━━━━━━━━━\u001b[0m\u001b[37m\u001b[0m \u001b[1m1s\u001b[0m 3ms/step\n",
            "              precision    recall  f1-score   support\n",
            "\n",
            "           0       0.85      0.81      0.83      1000\n",
            "           1       0.99      0.97      0.98      1000\n",
            "           2       0.82      0.82      0.82      1000\n",
            "           3       0.88      0.91      0.89      1000\n",
            "           4       0.82      0.81      0.82      1000\n",
            "           5       0.96      0.98      0.97      1000\n",
            "           6       0.68      0.71      0.69      1000\n",
            "           7       0.94      0.97      0.95      1000\n",
            "           8       0.97      0.97      0.97      1000\n",
            "           9       0.98      0.94      0.96      1000\n",
            "\n",
            "    accuracy                           0.89     10000\n",
            "   macro avg       0.89      0.89      0.89     10000\n",
            "weighted avg       0.89      0.89      0.89     10000\n",
            "\n"
          ]
        },
        {
          "data": {
            "image/png": "[encoded data removed]",
            "text/plain": [
              "<Figure size 1200x500 with 2 Axes>"
            ]
          },
          "metadata": {},
          "output_type": "display_data"
        }
      ],
      "source": [
        "from sklearn.metrics import classification_report\n",
        "import matplotlib.pyplot as plt\n",
        "\n",
        "# Impresión de los mejores parámetros\n",
        "print(\"Mejores parámetros C1 encontrados:\")\n",
        "print(\n",
        "    f\"Tamaño de lote: {best_params_c1['batch_size']}, \"\n",
        "    f\"Dropout: {best_params_c1['dropout']}, \"\n",
        "    f\"Optimizador: {best_params_c1['optimizer']}, \"\n",
        "    f\"Dense: {best_params_c1['dense_units']}\"\n",
        ")\n",
        "\n",
        "# Evaluación en el conjunto de prueba\n",
        "loss_c1, acc_c1 = best_model_c1.evaluate(x_test, y_test_oh, verbose=0)\n",
        "print(f\"Precisión final en test (C1): {acc_c1:.4f}\")\n",
        "\n",
        "# Predicciones\n",
        "y_pred_c1 = best_model_c1.predict(x_test)\n",
        "y_pred_labels_c1 = np.argmax(y_pred_c1, axis=1)\n",
        "\n",
        "# Informe de clasificación\n",
        "print(classification_report(y_test, y_pred_labels_c1))\n",
        "\n",
        "# Visualización de las métricas de entrenamiento y validación\n",
        "\n",
        "plt.figure(figsize=(12, 5))\n",
        "\n",
        "plt.subplot(1, 2, 1)\n",
        "plt.plot(best_history_c1.history['loss'], label='Pérdida de entrenamiento')\n",
        "plt.plot(best_history_c1.history['val_loss'], label='Pérdida de validación')\n",
        "plt.title('C1 - Pérdida')\n",
        "plt.legend()\n",
        "\n",
        "plt.subplot(1, 2, 2)\n",
        "plt.plot(best_history_c1.history['accuracy'], label='Precisión de entrenamiento')\n",
        "plt.plot(best_history_c1.history['val_accuracy'], label='Precisión de validación')\n",
        "plt.title('C1 - Precisión')\n",
        "plt.legend()\n",
        "\n",
        "plt.show()"
      ]
    },
    {
      "cell_type": "markdown",
      "metadata": {
        "id": "dSAtXUD9kc7N"
      },
      "source": [
        "## Solución: Modelo C2"
      ]
    },
    {
      "cell_type": "markdown",
      "metadata": {
        "id": "ks7xdYVZKluk"
      },
      "source": [
        "Pasamos ahora a la construcción del modelo C2, especificando de nuevo que llegarán como entrada imágenes en escala de grises de 28x28 píxeles antes de entrar en la primera capa convolucional que utiliza 112 filtros 3x3 con relleno «igual», preservando las dimensiones espaciales de la entrada (28x28). Un gran número de filtros en la primera convolución permite captar una amplia gama de patrones iniciales, como bordes o texturas simples. Inmediatamente después, la normalización por lotes estabiliza las activaciones y acelera la convergencia, mientras que la activación ReLU introduce la no linealidad necesaria para reconocer patrones complejos, exactamente igual que en el caso del primer patrón estructurado.\n",
        "\n",
        "\n",
        "\n",
        "Sin modificar en ningún momento la altura y la anchura de los mapas de activación, se aplican dos capas Conv2D más, en las que la segunda reduce el número de filtros a 64, lo que permite al modelo centrarse en un número menor de rasgos, tal vez más representativos. A continuación se procede a la normalización y el ReLU, mientras que la tercera capa aumenta de nuevo a 128 filtros y captura información de orden superior. A continuación, se aplica la normalización por lotes y el ReLU.\n",
        "\n",
        "En este punto, con los mapas de características todavía en 28×28 pero enriquecidos con 128 canales, se introduce MaxPooling 2×2, que reduce a la mitad las dimensiones espaciales a 14×14, pero conserva toda la información acumulada en los filtros. La capa Flatten «desenrolla» estos mapas en un vector de longitud 14×14×128, es decir, 25.088 valores, que se convierten en la entrada para la parte fully connected del modelo.\n",
        "\n",
        "Las capas densas actúan como una red neuronal tradicional, en la que cada neurona está conectada a todas las de la capa anterior. La secuencia dinámica de capas densas (208, 160, 128) reduce gradualmente la dimensionalidad de los datos, comprimiendo la información en representaciones cada vez más compactas y semánticamente significativas. Cada reducción de dimensión pretende preservar las relaciones no lineales entre las características, filtrando el ruido y aislando las señales relevantes para la clasificación.\n",
        "\n",
        "Después de cada capa densa, se aplica un Dropout a una tasa del 10%, que como ya se ha explicado con el modelo C1 es una forma de regularización que desactiva aleatoriamente un pequeño porcentaje de neuronas durante el entrenamiento, evitando que se sobreespecialicen en patrones específicos de los datos de entrenamiento.\n",
        "\n",
        "La activación ReLU se aplica sistemáticamente después de cada capa densa. También quiero especificar que la capa con 208 unidades captura relaciones de alto nivel entre características convolucionales, la de 160 unidades filtra aún más estas relaciones y la de 128 unidades prepara una representación final optimizada para la capa de salida. Esta estructura en embudo garantiza que el modelo mantenga un equilibrio entre la capacidad de aprendizaje, debida a la anchura inicial de las capas, y la eficiencia computacional, debida a la reducción progresiva.\n",
        "\n",
        "\n",
        "\n",
        "Finalmente llegamos a la capa de salida formada por 10 neuronas con activación softmax que traduce la representación compacta de 128 dimensiones en probabilidades para las 10 clases del problema"
      ]
    },
    {
      "cell_type": "code",
      "execution_count": null,
      "metadata": {
        "id": "l8vrnkvx6TcZ"
      },
      "outputs": [],
      "source": [
        "from tensorflow.keras import Input, Sequential\n",
        "from tensorflow.keras.layers import Conv2D, BatchNormalization, ReLU, MaxPooling2D, Flatten, Dense, Dropout\n",
        "from tensorflow.keras.optimizers import Adam, SGD\n",
        "from sklearn.metrics import classification_report\n",
        "import matplotlib.pyplot as plt\n",
        "import numpy as np\n",
        "\n",
        "def build_model_c2(dense_units=(208, 160, 128), dropout_rate=0.1,\n",
        "                   input_shape=(28, 28, 1), n_classes=10):\n",
        "    model = Sequential()\n",
        "\n",
        "    # definisco esplicitamente l'input\n",
        "    model.add(Input(shape=input_shape))\n",
        "\n",
        "    # blocco conv\n",
        "    model.add(Conv2D(112, 3, padding='same'))\n",
        "    model.add(BatchNormalization()); model.add(ReLU())\n",
        "    model.add(Conv2D(64, 3, padding='same'))\n",
        "    model.add(BatchNormalization()); model.add(ReLU())\n",
        "    model.add(Conv2D(128, 3, padding='same'))\n",
        "    model.add(BatchNormalization()); model.add(ReLU())\n",
        "    model.add(MaxPooling2D(2))\n",
        "    model.add(Flatten())\n",
        "\n",
        "    # blocco dense dinamico\n",
        "    for units in dense_units:\n",
        "        model.add(Dense(units))\n",
        "        model.add(Dropout(dropout_rate))\n",
        "        model.add(ReLU())\n",
        "\n",
        "    # output\n",
        "    model.add(Dense(n_classes, activation='softmax'))\n",
        "    return model\n"
      ]
    },
    {
      "cell_type": "markdown",
      "metadata": {
        "id": "Vkl_T49Ep5hn"
      },
      "source": [
        "#Búsqueda de hiperparámetros (C2)"
      ]
    },
    {
      "cell_type": "markdown",
      "metadata": {
        "id": "P6ivA9epkU1s"
      },
      "source": [
        "Para el modelo C2 también ha llegado el momento de buscar los mejores hiperparámetros. También en este caso, la estrategia adoptada es la de la búsqueda clásica en cuadrícula, que evalúa todas las combinaciones posibles de valores predefinidos para cinco parámetros clave: tamaño del lote, tasa de abandono, tasa de aprendizaje, optimizador y arquitectura de capas densas. Esta vez, como ya no tenemos un valor de densidad fijo como en el caso anterior, el entrenamiento será mucho más largo y complejo.\n",
        "\n",
        "En primer lugar, defino las listas de valores que hay que explorar: tamaños de lote (64 y 1000), tasas de abandono (0,1 y 0,3), tasas de aprendizaje (0,001 y 0,0005), tipos de optimizadores ('adam' y 'sgd') y, por último, dos configuraciones posibles para las tres capas totalmente conectadas, es decir, las tuplas (208, 160, 128) y (256, 192, 160) observamos que estas configuraciones pretenden comprimir progresivamente las características extraídas de las convoluciones. La primera configuración favorece una arquitectura más compacta, mientras que la segunda experimenta con una mayor capacidad, manteniendo al mismo tiempo un patrón descendente para evitar la sobrecarga computacional.. A continuación, inicializo ciertas variables como best_acc a '0', y best_model y best_params a objetos vacíos, listo para recoger los mejores resultados.\n",
        "\n",
        "A continuación, se analizan todas las combinaciones posibles con cinco ciclos anidados. En cada iteración, se imprime la configuración actual en términos de tamaño de lote, dropout, tasa de aprendizaje, optimizador y tupla de unidades densas. Con estos parámetros, creo el modelo llamando a build_model_c2, que recibe como argumentos las unidades densas y el dropout actual. Ahora instanciamos el optimizador correspondiente, con la tasa de aprendizaje seleccionada, y compilamos la red especificando la pérdida categorical_crossentropy y el indicador de precisión. La elección del optimizador, Adam o SGD, no es sólo una cuestión de algoritmo, sino que afecta directamente a la dinámica del entrenamiento, ya que Adam, con su adaptación automática de la tasa de aprendizaje, suele preferirse en escenarios complejos, mientras que SGD requiere una calibración más cuidadosa, pero puede alcanzar mínimos más estables.\n",
        "\n",
        "Ahora podemos empezar a entrenar con model.fit durante 20 epochs utilizando los datos de validación para monitorizar el rendimiento. Una vez finalizado el entrenamiento, se extrae la última precisión de validación del diccionario history.history['val_accuracy'] y si ésta supera el valor máximo registrado hasta el momento en best_acc, actualizamos todas las variables de best. A continuación, se guarda el modelo con los parámetros que han conducido a este resultado y se imprime. Estos resultados no sólo indican la mejor combinación, sino que también revelan patrones ocultos que podrían ser, por ejemplo, un mayor dropout que podría compensar los grandes tamaños de lote, o una tasa de aprendizaje reducida podría ser esencial para la estabilidad del SGD. Por otra parte, como no establezco ninguna lógica de parada anticipada u otra lógica de intervención temprana, hago que el proceso sea transparente aunque computacionalmente costoso, ya que todas las épocas se completan para cada configuración.\n",
        "\n",
        "Al final, la mejor combinación resulta ser: {'batch_size': 64, 'dropout': 0.1, 'learning_rate': 0.0005, 'optimiser': 'adam', 'dense_units': (208, 160, 128)} con una precisión de 0.9306. Estos parámetros se explicarán más adelante, una vez realizada la prueba con el conjunto jamás visto\n",
        "\n",
        "\n"
      ]
    },
    {
      "cell_type": "code",
      "execution_count": null,
      "metadata": {
        "colab": {
          "base_uri": "https://localhost:8080/"
        },
        "id": "cbCG-3lI6Wqx",
        "outputId": "bd9d46a2-c00d-418a-9cdc-f2da4f190073"
      },
      "outputs": [
        {
          "name": "stdout",
          "output_type": "stream",
          "text": [
            "\n",
            "batch=64, dropout=0.1, lr=0.001, opt=adam, units=(208, 160, 128)\n",
            "val_acc=0.9234\n",
            "\n",
            "batch=64, dropout=0.1, lr=0.001, opt=adam, units=(256, 192, 160)\n",
            "val_acc=0.9251\n",
            "\n",
            "batch=64, dropout=0.1, lr=0.001, opt=sgd, units=(208, 160, 128)\n",
            "val_acc=0.9065\n",
            "\n",
            "batch=64, dropout=0.1, lr=0.001, opt=sgd, units=(256, 192, 160)\n",
            "val_acc=0.9172\n",
            "\n",
            "batch=64, dropout=0.1, lr=0.0005, opt=adam, units=(208, 160, 128)\n",
            "val_acc=0.9306\n",
            "\n",
            "batch=64, dropout=0.1, lr=0.0005, opt=adam, units=(256, 192, 160)\n",
            "val_acc=0.9296\n",
            "\n",
            "batch=64, dropout=0.1, lr=0.0005, opt=sgd, units=(208, 160, 128)\n",
            "val_acc=0.9110\n",
            "\n",
            "batch=64, dropout=0.1, lr=0.0005, opt=sgd, units=(256, 192, 160)\n",
            "val_acc=0.9095\n",
            "\n",
            "batch=64, dropout=0.3, lr=0.001, opt=adam, units=(208, 160, 128)\n",
            "val_acc=0.9184\n",
            "\n",
            "batch=64, dropout=0.3, lr=0.001, opt=adam, units=(256, 192, 160)\n",
            "val_acc=0.9153\n",
            "\n",
            "batch=64, dropout=0.3, lr=0.001, opt=sgd, units=(208, 160, 128)\n",
            "val_acc=0.9107\n",
            "\n",
            "batch=64, dropout=0.3, lr=0.001, opt=sgd, units=(256, 192, 160)\n",
            "val_acc=0.9053\n",
            "\n",
            "batch=64, dropout=0.3, lr=0.0005, opt=adam, units=(208, 160, 128)\n",
            "val_acc=0.9196\n",
            "\n",
            "batch=64, dropout=0.3, lr=0.0005, opt=adam, units=(256, 192, 160)\n",
            "val_acc=0.9255\n",
            "\n",
            "batch=64, dropout=0.3, lr=0.0005, opt=sgd, units=(208, 160, 128)\n",
            "val_acc=0.8983\n",
            "\n",
            "batch=64, dropout=0.3, lr=0.0005, opt=sgd, units=(256, 192, 160)\n",
            "val_acc=0.9014\n",
            "\n",
            "batch=1000, dropout=0.1, lr=0.001, opt=adam, units=(208, 160, 128)\n",
            "val_acc=0.9261\n",
            "\n",
            "batch=1000, dropout=0.1, lr=0.001, opt=adam, units=(256, 192, 160)\n",
            "val_acc=0.9216\n",
            "\n",
            "batch=1000, dropout=0.1, lr=0.001, opt=sgd, units=(208, 160, 128)\n",
            "val_acc=0.8589\n",
            "\n",
            "batch=1000, dropout=0.1, lr=0.001, opt=sgd, units=(256, 192, 160)\n",
            "val_acc=0.8637\n",
            "\n",
            "batch=1000, dropout=0.1, lr=0.0005, opt=adam, units=(208, 160, 128)\n",
            "val_acc=0.9129\n",
            "\n",
            "batch=1000, dropout=0.1, lr=0.0005, opt=adam, units=(256, 192, 160)\n",
            "val_acc=0.9272\n",
            "\n",
            "batch=1000, dropout=0.1, lr=0.0005, opt=sgd, units=(208, 160, 128)\n",
            "val_acc=0.8354\n",
            "\n",
            "batch=1000, dropout=0.1, lr=0.0005, opt=sgd, units=(256, 192, 160)\n",
            "val_acc=0.8356\n",
            "\n",
            "batch=1000, dropout=0.3, lr=0.001, opt=adam, units=(208, 160, 128)\n",
            "val_acc=0.9018\n",
            "\n",
            "batch=1000, dropout=0.3, lr=0.001, opt=adam, units=(256, 192, 160)\n",
            "val_acc=0.9153\n",
            "\n",
            "batch=1000, dropout=0.3, lr=0.001, opt=sgd, units=(208, 160, 128)\n",
            "val_acc=0.8318\n",
            "\n",
            "batch=1000, dropout=0.3, lr=0.001, opt=sgd, units=(256, 192, 160)\n",
            "val_acc=0.8355\n",
            "\n",
            "batch=1000, dropout=0.3, lr=0.0005, opt=adam, units=(208, 160, 128)\n",
            "val_acc=0.9262\n",
            "\n",
            "batch=1000, dropout=0.3, lr=0.0005, opt=adam, units=(256, 192, 160)\n",
            "val_acc=0.9258\n",
            "\n",
            "batch=1000, dropout=0.3, lr=0.0005, opt=sgd, units=(208, 160, 128)\n",
            "val_acc=0.8117\n",
            "\n",
            "batch=1000, dropout=0.3, lr=0.0005, opt=sgd, units=(256, 192, 160)\n",
            "val_acc=0.7973\n",
            "\n",
            "Mejores hiperparámetros (C2): {'batch_size': 64, 'dropout': 0.1, 'learning_rate': 0.0005, 'optimizer': 'adam', 'dense_units': (208, 160, 128)}\n",
            "Mejor precisión de validación: 0.9306\n"
          ]
        }
      ],
      "source": [
        "batch_sizes      = [64, 1000]\n",
        "dropouts         = [0.1, 0.3]\n",
        "learning_rates   = [0.001, 0.0005]\n",
        "optimizers       = ['adam', 'sgd']\n",
        "dense_units_grid = [(208, 160, 128), (256, 192, 160)]\n",
        "\n",
        "best_acc   = 0\n",
        "best_model = None\n",
        "best_params = {}\n",
        "\n",
        "for batch_size in batch_sizes:\n",
        "    for dropout in dropouts:\n",
        "        for lr in learning_rates:\n",
        "            for opt_name in optimizers:\n",
        "                for units in dense_units_grid:\n",
        "                    print(f\"\\nbatch={batch_size}, dropout={dropout}, lr={lr}, \"\n",
        "                          f\"opt={opt_name}, units={units}\")\n",
        "\n",
        "                    model = build_model_c2(dense_units=units, dropout_rate=dropout)\n",
        "\n",
        "                    optimizer = Adam(learning_rate=lr) if opt_name == 'adam' else SGD(learning_rate=lr)\n",
        "                    model.compile(optimizer=optimizer,\n",
        "                                  loss='categorical_crossentropy',\n",
        "                                  metrics=['accuracy'])\n",
        "\n",
        "                    history = model.fit(x_train, y_train_oh,\n",
        "                                        validation_data=(x_val, y_val_oh),\n",
        "                                        epochs=20,\n",
        "                                        batch_size=batch_size,\n",
        "                                        verbose=0)\n",
        "\n",
        "                    val_acc = history.history['val_accuracy'][-1]\n",
        "                    print(f\"val_acc={val_acc:.4f}\")\n",
        "\n",
        "                    if val_acc > best_acc:\n",
        "                        best_acc   = val_acc\n",
        "                        best_model = model\n",
        "                        best_history = history\n",
        "                        best_params = dict(batch_size=batch_size,\n",
        "                                           dropout=dropout,\n",
        "                                           learning_rate=lr,\n",
        "                                           optimizer=opt_name,\n",
        "                                           dense_units=units)\n",
        "\n",
        "print(\"\\nMejores hiperparámetros (C2):\", best_params)\n",
        "print(f\"Mejor precisión de validación: {best_acc:.4f}\")"
      ]
    },
    {
      "cell_type": "markdown",
      "metadata": {
        "id": "YuDO-HJap0VK"
      },
      "source": [
        "# Evaluación final con los mejores hiperparámetros"
      ]
    },
    {
      "cell_type": "markdown",
      "metadata": {
        "id": "Xc9a44YlBl0N"
      },
      "source": [
        "Llegamos ahora a la última etapa en lo que respecta al modelo C2.\n",
        "\n",
        "En este bloque de código, vamos a evaluar el rendimiento del mejor modelo encontrado durante la búsqueda de hiperparámetros en datos nunca antes vistos por el modelo, es decir, el conjunto de prueba.\n",
        "\n",
        "\n",
        "\n",
        "Al principio del código se muestran en pantalla los valores guardados en best_params, de forma que recordemos exactamente qué tamaño de lote, dropout, tasa de aprendizaje, optimizador y arquitectura densa produjeron el rendimiento óptimo. Inmediatamente después llamamos a best_model.evaluate sobre x_test e y_test_oh, obteniendo la pérdida y la precisión finales. Esta última se muestra con cuatro decimales para dar una idea precisa del grado de generalización del modelo.\n",
        "\n",
        "\n",
        "\n",
        "A continuación, realizo las predicciones reales con best_model.predict y convierto los resultados de un solo intento en etiquetas discretas utilizando np.argmax. Estas etiquetas se utilizan para comparar los resultados obtenidos con las clases reales de y_test y, a continuación, elaborar un informe de clasificación con classification_report, que incluye la precisión, la recuperación y la puntuación F1 de cada una de las diez categorías.\n",
        "\n",
        "Recordemos que la mejor configuración para C2 es {'batch_size': 64, 'dropout': 0.1, 'optimizer': 'adam', 'learning_rate': 0.0005, 'dense_units': (208, 160, 128)} y esta en el conjunto de pruebas alcanza un valor de precisión de 0.9274. Este resultado es ligeramente peor que el obtenido con el conjunto de validación, pero es un resultado más que aceptable.\n",
        "Miramos que la elección de una arquitectura profunda con tres capas densas (208, 160, 128 unidades) permite al modelo identificar patrones jerárquicos más complejos, lo que justifica su precisión superior frente a C1. El dropout bajo de 0,1 refleja que la regularización implícita de la profundidad compensa la necesidad de aplicar una mayor tasa de abandono, como en el caso de C1. La tasa de aprendizaje reducida de 0,0005 y el uso de Adam facilitan actualizaciones estables de los pesos, esenciales para evitar oscilaciones en redes con múltiples capas.\n",
        "\n",
        "En cuanto a las curvas de pérdida y precisión muestran un entrenamiento estable de hecho ambas métricas convergen sin brechas significativas, confirmando que el modelo no sobreajusta a pesar de su complejidad. La precisión final de validación es de 92,74% y esto subraya el buen trabajo realizado y que esta combinación de hiperparámetros equilibra capacidad de aprendizaje y generalización."
      ]
    },
    {
      "cell_type": "code",
      "execution_count": null,
      "metadata": {
        "colab": {
          "base_uri": "https://localhost:8080/",
          "height": 1000
        },
        "id": "rADerMXG6agf",
        "outputId": "278246fb-ff86-4ca4-fbdf-bb5251511b71"
      },
      "outputs": [
        {
          "name": "stdout",
          "output_type": "stream",
          "text": [
            "\n",
            "Mejores parámetros C2:\n",
            "  batch_size: 64\n",
            "  dropout: 0.1\n",
            "  learning_rate: 0.0005\n",
            "  optimizer: adam\n",
            "  dense_units: (208, 160, 128)\n",
            "\n",
            "Precisión en test C2: 0.9274\n",
            "\n",
            "Informe de clasificación C2:\n",
            "              precision    recall  f1-score   support\n",
            "\n",
            "           0       0.82      0.91      0.87      1000\n",
            "           1       1.00      0.98      0.99      1000\n",
            "           2       0.87      0.92      0.89      1000\n",
            "           3       0.94      0.92      0.93      1000\n",
            "           4       0.89      0.88      0.88      1000\n",
            "           5       0.99      0.99      0.99      1000\n",
            "           6       0.83      0.73      0.78      1000\n",
            "           7       0.97      0.98      0.98      1000\n",
            "           8       0.99      0.98      0.99      1000\n",
            "           9       0.98      0.97      0.98      1000\n",
            "\n",
            "    accuracy                           0.93     10000\n",
            "   macro avg       0.93      0.93      0.93     10000\n",
            "weighted avg       0.93      0.93      0.93     10000\n",
            "\n"
          ]
        },
        {
          "data": {
            "image/png": "[encoded data removed]",
            "text/plain": [
              "<Figure size 1200x500 with 2 Axes>"
            ]
          },
          "metadata": {},
          "output_type": "display_data"
        }
      ],
      "source": [
        "# Evaluación final con los mejores hiperparámetros\n",
        "print(\"\\nMejores parámetros C2:\")\n",
        "for k, v in best_params.items():\n",
        "    print(f\"  {k}: {v}\")\n",
        "\n",
        "loss_c2, acc_c2 = best_model.evaluate(x_test, y_test_oh, verbose=0)\n",
        "print(f\"\\nPrecisión en test C2: {acc_c2:.4f}\")\n",
        "\n",
        "# Predicciones e informe\n",
        "y_pred = best_model.predict(x_test, verbose=0)\n",
        "y_pred_labels = np.argmax(y_pred, axis=1)\n",
        "print(\"\\nInforme de clasificación C2:\")\n",
        "print(classification_report(y_test, y_pred_labels))\n",
        "\n",
        "# Métricas de entrenamiento C2\n",
        "plt.figure(figsize=(12, 5))\n",
        "\n",
        "plt.subplot(1, 2, 1)\n",
        "plt.plot(best_history.history['loss'], label='entrenamiento')\n",
        "plt.plot(best_history.history['val_loss'], label='validación')\n",
        "plt.title('Pérdida')\n",
        "plt.legend()\n",
        "\n",
        "plt.subplot(1, 2, 2)\n",
        "plt.plot(best_history.history['accuracy'], label='entrenamiento')\n",
        "plt.plot(best_history.history['val_accuracy'], label='validación')\n",
        "plt.title('Precisión')\n",
        "plt.legend()\n",
        "\n",
        "plt.tight_layout()\n",
        "plt.show()"
      ]
    },
    {
      "cell_type": "markdown",
      "metadata": {
        "id": "yLmmgxZIkeSc"
      },
      "source": [
        "## Comparativa de los modelos C1 y C2"
      ]
    },
    {
      "cell_type": "markdown",
      "metadata": {
        "id": "dAK6QEIbsnHL"
      },
      "source": [
        "En este último bloque de código creo un gráfico de barras para comparar la precisión de los dos modelos, por lo que imprimo un informe recordando la precisión de cada modelo y construyo un gráfico sencillo para dar una idea inmediata del mejor modelo.\n",
        "Al comparar ambos modelos, se observa una diferencia clara en rendimiento como C2 alcanza una precisión en test del 92,74%, superior al 88,97% de C1. Esta mejora se atribuye principalmente a la arquitectura profunda de C2, que captura relaciones complejas en los datos, y a un ajuste más fino de hiperparámetros como el learning rate de 0,0005 contra el 0,001 en C1 y el dropout con 0,1 contra 0,3 C1.\n",
        "\n",
        "Miramos que mientras C1 prioriza la simplicidad con una sola capa densa y mayor regularización, C2 aprovecha capas múltiples para extraer características jerárquicas, logrando mayor precisión sin sacrificar la estabilidad. El gráfico de comparación muestra además que ambas curvas de precisión mantienen una brecha mínima entre entrenamiento y validación, indicando que ningún modelo sufre sobreajuste significativo. No obstante, C2 demuestra cómo una arquitectura más sofisticada, combinada con hiperparámetros optimizados, puede elevar el rendimiento en problemas complejos"
      ]
    },
    {
      "cell_type": "code",
      "execution_count": null,
      "metadata": {
        "colab": {
          "base_uri": "https://localhost:8080/",
          "height": 463
        },
        "id": "6Dl5mbvYcjC-",
        "outputId": "6c95bb3a-8035-4c91-ce75-4e5c8e6d7b88"
      },
      "outputs": [
        {
          "name": "stdout",
          "output_type": "stream",
          "text": [
            "\n",
            "COMPARACIÓN FINAL:\n",
            "Modelo C1 - Precisión en test: 0.8897\n",
            "Modelo C2 - Precisión en test: 0.9274\n"
          ]
        },
        {
          "data": {
            "image/png": "[encoded data removed]",
            "text/plain": [
              "<Figure size 500x400 with 1 Axes>"
            ]
          },
          "metadata": {},
          "output_type": "display_data"
        }
      ],
      "source": [
        "import matplotlib.pyplot as plt\n",
        "\n",
        "# Definición de etiquetas y valores de precisión\n",
        "labels = ['C1', 'C2']\n",
        "accs = [acc_c1, acc_c2]\n",
        "\n",
        "# Impresión de resultados\n",
        "print(\"\\nCOMPARACIÓN FINAL:\")\n",
        "for lbl, a in zip(labels, accs):\n",
        "    print(f\"Modelo {lbl} - Precisión en test: {a:.4f}\")\n",
        "\n",
        "# Gráfico de barras\n",
        "plt.figure(figsize=(5, 4))\n",
        "plt.bar(labels, accs)\n",
        "plt.ylim(0, 1)\n",
        "plt.ylabel('Precisión en test')\n",
        "plt.title('Comparación C1 vs C2')\n",
        "plt.show()"
      ]
    }
  ],
  "metadata": {
    "accelerator": "GPU",
    "colab": {
      "gpuType": "T4",
      "provenance": []
    },
    "kernelspec": {
      "display_name": "Python 3",
      "name": "python3"
    },
    "language_info": {
      "name": "python"
    }
  },
  "nbformat": 4,
  "nbformat_minor": 0
}
